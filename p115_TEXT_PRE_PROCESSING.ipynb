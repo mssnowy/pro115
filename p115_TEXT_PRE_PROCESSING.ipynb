{
  "nbformat": 4,
  "nbformat_minor": 0,
  "metadata": {
    "colab": {
      "provenance": [],
      "include_colab_link": true
    },
    "kernelspec": {
      "name": "python3",
      "display_name": "Python 3"
    },
    "language_info": {
      "name": "python"
    }
  },
  "cells": [
    {
      "cell_type": "markdown",
      "metadata": {
        "id": "view-in-github",
        "colab_type": "text"
      },
      "source": [
        "<a href=\"https://colab.research.google.com/github/mssnowy/pro115/blob/main/p115_TEXT_PRE_PROCESSING.ipynb\" target=\"_parent\"><img src=\"https://colab.research.google.com/assets/colab-badge.svg\" alt=\"Open In Colab\"/></a>"
      ]
    },
    {
      "cell_type": "code",
      "execution_count": null,
      "metadata": {
        "id": "lZJn4XMeQohi",
        "colab": {
          "base_uri": "https://localhost:8080/"
        },
        "outputId": "b0d3d680-b8dd-4417-bff4-515102a0f504"
      },
      "outputs": [
        {
          "output_type": "stream",
          "name": "stdout",
          "text": [
            "Cloning into 'product_dataset'...\n",
            "remote: Enumerating objects: 11, done.\u001b[K\n",
            "remote: Counting objects: 100% (11/11), done.\u001b[K\n",
            "remote: Compressing objects: 100% (10/10), done.\u001b[K\n",
            "remote: Total 11 (delta 0), reused 0 (delta 0), pack-reused 0\u001b[K\n",
            "Unpacking objects: 100% (11/11), 3.08 MiB | 11.38 MiB/s, done.\n"
          ]
        }
      ],
      "source": [
        "!git clone https://github.com/procodingclass/product_dataset.git"
      ]
    },
    {
      "cell_type": "code",
      "source": [
        "# Make a dataframe using the 'pandas' module\n",
        "import pandas as pd\n",
        "dataframe = pd.read_excel('/content/product_dataset/updated_product_dataset.xlsx')\n",
        "#print(dataframe.head())\n",
        "dataframe.head()"
      ],
      "metadata": {
        "id": "i2ck3i9ycNXq",
        "colab": {
          "base_uri": "https://localhost:8080/",
          "height": 206
        },
        "outputId": "f09b47b8-fc21-4cf4-9b59-61424ee43679"
      },
      "execution_count": null,
      "outputs": [
        {
          "output_type": "execute_result",
          "data": {
            "text/plain": [
              "    Emotion                                               Text\n",
              "0  Positive  close approximation red octane mat bought one ...\n",
              "1   Neutral  little lumpy mat great foam padding itâ€™s use...\n",
              "2  Positive  great pad love ddr not want metal pad get work...\n",
              "3  Positive  excellent pad great product highly responsive ...\n",
              "4  Positive  awesome great ddr pad works perfectly pc stepm..."
            ],
            "text/html": [
              "\n",
              "  <div id=\"df-77e40fa0-d224-4afa-9e12-ef00a5202505\">\n",
              "    <div class=\"colab-df-container\">\n",
              "      <div>\n",
              "<style scoped>\n",
              "    .dataframe tbody tr th:only-of-type {\n",
              "        vertical-align: middle;\n",
              "    }\n",
              "\n",
              "    .dataframe tbody tr th {\n",
              "        vertical-align: top;\n",
              "    }\n",
              "\n",
              "    .dataframe thead th {\n",
              "        text-align: right;\n",
              "    }\n",
              "</style>\n",
              "<table border=\"1\" class=\"dataframe\">\n",
              "  <thead>\n",
              "    <tr style=\"text-align: right;\">\n",
              "      <th></th>\n",
              "      <th>Emotion</th>\n",
              "      <th>Text</th>\n",
              "    </tr>\n",
              "  </thead>\n",
              "  <tbody>\n",
              "    <tr>\n",
              "      <th>0</th>\n",
              "      <td>Positive</td>\n",
              "      <td>close approximation red octane mat bought one ...</td>\n",
              "    </tr>\n",
              "    <tr>\n",
              "      <th>1</th>\n",
              "      <td>Neutral</td>\n",
              "      <td>little lumpy mat great foam padding itâ€™s use...</td>\n",
              "    </tr>\n",
              "    <tr>\n",
              "      <th>2</th>\n",
              "      <td>Positive</td>\n",
              "      <td>great pad love ddr not want metal pad get work...</td>\n",
              "    </tr>\n",
              "    <tr>\n",
              "      <th>3</th>\n",
              "      <td>Positive</td>\n",
              "      <td>excellent pad great product highly responsive ...</td>\n",
              "    </tr>\n",
              "    <tr>\n",
              "      <th>4</th>\n",
              "      <td>Positive</td>\n",
              "      <td>awesome great ddr pad works perfectly pc stepm...</td>\n",
              "    </tr>\n",
              "  </tbody>\n",
              "</table>\n",
              "</div>\n",
              "      <button class=\"colab-df-convert\" onclick=\"convertToInteractive('df-77e40fa0-d224-4afa-9e12-ef00a5202505')\"\n",
              "              title=\"Convert this dataframe to an interactive table.\"\n",
              "              style=\"display:none;\">\n",
              "        \n",
              "  <svg xmlns=\"http://www.w3.org/2000/svg\" height=\"24px\"viewBox=\"0 0 24 24\"\n",
              "       width=\"24px\">\n",
              "    <path d=\"M0 0h24v24H0V0z\" fill=\"none\"/>\n",
              "    <path d=\"M18.56 5.44l.94 2.06.94-2.06 2.06-.94-2.06-.94-.94-2.06-.94 2.06-2.06.94zm-11 1L8.5 8.5l.94-2.06 2.06-.94-2.06-.94L8.5 2.5l-.94 2.06-2.06.94zm10 10l.94 2.06.94-2.06 2.06-.94-2.06-.94-.94-2.06-.94 2.06-2.06.94z\"/><path d=\"M17.41 7.96l-1.37-1.37c-.4-.4-.92-.59-1.43-.59-.52 0-1.04.2-1.43.59L10.3 9.45l-7.72 7.72c-.78.78-.78 2.05 0 2.83L4 21.41c.39.39.9.59 1.41.59.51 0 1.02-.2 1.41-.59l7.78-7.78 2.81-2.81c.8-.78.8-2.07 0-2.86zM5.41 20L4 18.59l7.72-7.72 1.47 1.35L5.41 20z\"/>\n",
              "  </svg>\n",
              "      </button>\n",
              "      \n",
              "  <style>\n",
              "    .colab-df-container {\n",
              "      display:flex;\n",
              "      flex-wrap:wrap;\n",
              "      gap: 12px;\n",
              "    }\n",
              "\n",
              "    .colab-df-convert {\n",
              "      background-color: #E8F0FE;\n",
              "      border: none;\n",
              "      border-radius: 50%;\n",
              "      cursor: pointer;\n",
              "      display: none;\n",
              "      fill: #1967D2;\n",
              "      height: 32px;\n",
              "      padding: 0 0 0 0;\n",
              "      width: 32px;\n",
              "    }\n",
              "\n",
              "    .colab-df-convert:hover {\n",
              "      background-color: #E2EBFA;\n",
              "      box-shadow: 0px 1px 2px rgba(60, 64, 67, 0.3), 0px 1px 3px 1px rgba(60, 64, 67, 0.15);\n",
              "      fill: #174EA6;\n",
              "    }\n",
              "\n",
              "    [theme=dark] .colab-df-convert {\n",
              "      background-color: #3B4455;\n",
              "      fill: #D2E3FC;\n",
              "    }\n",
              "\n",
              "    [theme=dark] .colab-df-convert:hover {\n",
              "      background-color: #434B5C;\n",
              "      box-shadow: 0px 1px 3px 1px rgba(0, 0, 0, 0.15);\n",
              "      filter: drop-shadow(0px 1px 2px rgba(0, 0, 0, 0.3));\n",
              "      fill: #FFFFFF;\n",
              "    }\n",
              "  </style>\n",
              "\n",
              "      <script>\n",
              "        const buttonEl =\n",
              "          document.querySelector('#df-77e40fa0-d224-4afa-9e12-ef00a5202505 button.colab-df-convert');\n",
              "        buttonEl.style.display =\n",
              "          google.colab.kernel.accessAllowed ? 'block' : 'none';\n",
              "\n",
              "        async function convertToInteractive(key) {\n",
              "          const element = document.querySelector('#df-77e40fa0-d224-4afa-9e12-ef00a5202505');\n",
              "          const dataTable =\n",
              "            await google.colab.kernel.invokeFunction('convertToInteractive',\n",
              "                                                     [key], {});\n",
              "          if (!dataTable) return;\n",
              "\n",
              "          const docLinkHtml = 'Like what you see? Visit the ' +\n",
              "            '<a target=\"_blank\" href=https://colab.research.google.com/notebooks/data_table.ipynb>data table notebook</a>'\n",
              "            + ' to learn more about interactive tables.';\n",
              "          element.innerHTML = '';\n",
              "          dataTable['output_type'] = 'display_data';\n",
              "          await google.colab.output.renderOutput(dataTable, element);\n",
              "          const docLink = document.createElement('div');\n",
              "          docLink.innerHTML = docLinkHtml;\n",
              "          element.appendChild(docLink);\n",
              "        }\n",
              "      </script>\n",
              "    </div>\n",
              "  </div>\n",
              "  "
            ]
          },
          "metadata": {},
          "execution_count": 4
        }
      ]
    },
    {
      "cell_type": "code",
      "source": [
        "dataframe[\"Emotion\"].unique()"
      ],
      "metadata": {
        "id": "ahpKP4Xc4ep6",
        "colab": {
          "base_uri": "https://localhost:8080/"
        },
        "outputId": "70a7d58c-eeaf-4ecb-ff72-a57f7a5e1898"
      },
      "execution_count": null,
      "outputs": [
        {
          "output_type": "execute_result",
          "data": {
            "text/plain": [
              "array(['Positive', 'Neutral', 'Negative'], dtype=object)"
            ]
          },
          "metadata": {},
          "execution_count": 5
        }
      ]
    },
    {
      "cell_type": "code",
      "source": [
        "encode_product={\"Positive\":0,\"Neutral\":1,\"Negative\":2}"
      ],
      "metadata": {
        "id": "AfK6S9KJ4kQ9"
      },
      "execution_count": null,
      "outputs": []
    },
    {
      "cell_type": "code",
      "source": [
        "dataframe.replace(encode_product,inplace=True)"
      ],
      "metadata": {
        "id": "EnTzj4gB4tk9"
      },
      "execution_count": null,
      "outputs": []
    },
    {
      "cell_type": "code",
      "source": [
        "dataframe.head()"
      ],
      "metadata": {
        "id": "S-wAZcLH4trn",
        "colab": {
          "base_uri": "https://localhost:8080/",
          "height": 206
        },
        "outputId": "60be5490-f415-4dc8-fd7e-65ab00abbfe4"
      },
      "execution_count": null,
      "outputs": [
        {
          "output_type": "execute_result",
          "data": {
            "text/plain": [
              "   Emotion                                               Text\n",
              "0        0  close approximation red octane mat bought one ...\n",
              "1        1  little lumpy mat great foam padding itâ€™s use...\n",
              "2        0  great pad love ddr not want metal pad get work...\n",
              "3        0  excellent pad great product highly responsive ...\n",
              "4        0  awesome great ddr pad works perfectly pc stepm..."
            ],
            "text/html": [
              "\n",
              "  <div id=\"df-a4f48ae8-28ad-44b3-a209-21a5540f39ef\">\n",
              "    <div class=\"colab-df-container\">\n",
              "      <div>\n",
              "<style scoped>\n",
              "    .dataframe tbody tr th:only-of-type {\n",
              "        vertical-align: middle;\n",
              "    }\n",
              "\n",
              "    .dataframe tbody tr th {\n",
              "        vertical-align: top;\n",
              "    }\n",
              "\n",
              "    .dataframe thead th {\n",
              "        text-align: right;\n",
              "    }\n",
              "</style>\n",
              "<table border=\"1\" class=\"dataframe\">\n",
              "  <thead>\n",
              "    <tr style=\"text-align: right;\">\n",
              "      <th></th>\n",
              "      <th>Emotion</th>\n",
              "      <th>Text</th>\n",
              "    </tr>\n",
              "  </thead>\n",
              "  <tbody>\n",
              "    <tr>\n",
              "      <th>0</th>\n",
              "      <td>0</td>\n",
              "      <td>close approximation red octane mat bought one ...</td>\n",
              "    </tr>\n",
              "    <tr>\n",
              "      <th>1</th>\n",
              "      <td>1</td>\n",
              "      <td>little lumpy mat great foam padding itâ€™s use...</td>\n",
              "    </tr>\n",
              "    <tr>\n",
              "      <th>2</th>\n",
              "      <td>0</td>\n",
              "      <td>great pad love ddr not want metal pad get work...</td>\n",
              "    </tr>\n",
              "    <tr>\n",
              "      <th>3</th>\n",
              "      <td>0</td>\n",
              "      <td>excellent pad great product highly responsive ...</td>\n",
              "    </tr>\n",
              "    <tr>\n",
              "      <th>4</th>\n",
              "      <td>0</td>\n",
              "      <td>awesome great ddr pad works perfectly pc stepm...</td>\n",
              "    </tr>\n",
              "  </tbody>\n",
              "</table>\n",
              "</div>\n",
              "      <button class=\"colab-df-convert\" onclick=\"convertToInteractive('df-a4f48ae8-28ad-44b3-a209-21a5540f39ef')\"\n",
              "              title=\"Convert this dataframe to an interactive table.\"\n",
              "              style=\"display:none;\">\n",
              "        \n",
              "  <svg xmlns=\"http://www.w3.org/2000/svg\" height=\"24px\"viewBox=\"0 0 24 24\"\n",
              "       width=\"24px\">\n",
              "    <path d=\"M0 0h24v24H0V0z\" fill=\"none\"/>\n",
              "    <path d=\"M18.56 5.44l.94 2.06.94-2.06 2.06-.94-2.06-.94-.94-2.06-.94 2.06-2.06.94zm-11 1L8.5 8.5l.94-2.06 2.06-.94-2.06-.94L8.5 2.5l-.94 2.06-2.06.94zm10 10l.94 2.06.94-2.06 2.06-.94-2.06-.94-.94-2.06-.94 2.06-2.06.94z\"/><path d=\"M17.41 7.96l-1.37-1.37c-.4-.4-.92-.59-1.43-.59-.52 0-1.04.2-1.43.59L10.3 9.45l-7.72 7.72c-.78.78-.78 2.05 0 2.83L4 21.41c.39.39.9.59 1.41.59.51 0 1.02-.2 1.41-.59l7.78-7.78 2.81-2.81c.8-.78.8-2.07 0-2.86zM5.41 20L4 18.59l7.72-7.72 1.47 1.35L5.41 20z\"/>\n",
              "  </svg>\n",
              "      </button>\n",
              "      \n",
              "  <style>\n",
              "    .colab-df-container {\n",
              "      display:flex;\n",
              "      flex-wrap:wrap;\n",
              "      gap: 12px;\n",
              "    }\n",
              "\n",
              "    .colab-df-convert {\n",
              "      background-color: #E8F0FE;\n",
              "      border: none;\n",
              "      border-radius: 50%;\n",
              "      cursor: pointer;\n",
              "      display: none;\n",
              "      fill: #1967D2;\n",
              "      height: 32px;\n",
              "      padding: 0 0 0 0;\n",
              "      width: 32px;\n",
              "    }\n",
              "\n",
              "    .colab-df-convert:hover {\n",
              "      background-color: #E2EBFA;\n",
              "      box-shadow: 0px 1px 2px rgba(60, 64, 67, 0.3), 0px 1px 3px 1px rgba(60, 64, 67, 0.15);\n",
              "      fill: #174EA6;\n",
              "    }\n",
              "\n",
              "    [theme=dark] .colab-df-convert {\n",
              "      background-color: #3B4455;\n",
              "      fill: #D2E3FC;\n",
              "    }\n",
              "\n",
              "    [theme=dark] .colab-df-convert:hover {\n",
              "      background-color: #434B5C;\n",
              "      box-shadow: 0px 1px 3px 1px rgba(0, 0, 0, 0.15);\n",
              "      filter: drop-shadow(0px 1px 2px rgba(0, 0, 0, 0.3));\n",
              "      fill: #FFFFFF;\n",
              "    }\n",
              "  </style>\n",
              "\n",
              "      <script>\n",
              "        const buttonEl =\n",
              "          document.querySelector('#df-a4f48ae8-28ad-44b3-a209-21a5540f39ef button.colab-df-convert');\n",
              "        buttonEl.style.display =\n",
              "          google.colab.kernel.accessAllowed ? 'block' : 'none';\n",
              "\n",
              "        async function convertToInteractive(key) {\n",
              "          const element = document.querySelector('#df-a4f48ae8-28ad-44b3-a209-21a5540f39ef');\n",
              "          const dataTable =\n",
              "            await google.colab.kernel.invokeFunction('convertToInteractive',\n",
              "                                                     [key], {});\n",
              "          if (!dataTable) return;\n",
              "\n",
              "          const docLinkHtml = 'Like what you see? Visit the ' +\n",
              "            '<a target=\"_blank\" href=https://colab.research.google.com/notebooks/data_table.ipynb>data table notebook</a>'\n",
              "            + ' to learn more about interactive tables.';\n",
              "          element.innerHTML = '';\n",
              "          dataTable['output_type'] = 'display_data';\n",
              "          await google.colab.output.renderOutput(dataTable, element);\n",
              "          const docLink = document.createElement('div');\n",
              "          docLink.innerHTML = docLinkHtml;\n",
              "          element.appendChild(docLink);\n",
              "        }\n",
              "      </script>\n",
              "    </div>\n",
              "  </div>\n",
              "  "
            ]
          },
          "metadata": {},
          "execution_count": 8
        }
      ]
    },
    {
      "cell_type": "code",
      "source": [
        "training_sentences=[]\n",
        "training_labels = []\n",
        "# append text and emotions in the list using the 'loc' method\n",
        "for i in range(len(dataframe)):\n",
        "  sentence = dataframe.loc[i,\"Text\"]\n",
        "  training_sentences.append(sentence)\n",
        "  label = dataframe.loc[i,\"Emotion\"]\n",
        "  training_labels.append(label)\n",
        "#Check a random text and label of the list\n",
        "training_sentences[50],training_labels[50]"
      ],
      "metadata": {
        "id": "FlQQaFlZ425n",
        "colab": {
          "base_uri": "https://localhost:8080/"
        },
        "outputId": "61e42906-cbe4-48ec-d363-e236393cff18"
      },
      "execution_count": null,
      "outputs": [
        {
          "output_type": "execute_result",
          "data": {
            "text/plain": [
              "('great game got game daughter birthday loves', 0)"
            ]
          },
          "metadata": {},
          "execution_count": 9
        }
      ]
    },
    {
      "cell_type": "code",
      "source": [
        "import tensorflow as tf\n",
        "from tensorflow.keras.preprocessing.text import Tokenizer\n",
        "#Define parameters for Tokenizer\n",
        "vocab_size=10000\n",
        "embedding_dim = 16\n",
        "oov_tok = \"<OOV>\"\n",
        "training_size = 20000\n",
        "tokenizer=Tokenizer(num_words=vocab_size,oov_token=oov_tok)\n",
        "tokenizer.fit_on_texts(training_sentences)\n",
        "#Create a word_index dictionary\n",
        "word_index = tokenizer.word_index\n",
        "#Check the tokenized sequence\n",
        "word_index[\"wrong\"]"
      ],
      "metadata": {
        "id": "7zns_bd046ky",
        "colab": {
          "base_uri": "https://localhost:8080/"
        },
        "outputId": "3e0e93d6-7da0-48c7-8271-46c881b87493"
      },
      "execution_count": null,
      "outputs": [
        {
          "output_type": "execute_result",
          "data": {
            "text/plain": [
              "434"
            ]
          },
          "metadata": {},
          "execution_count": 10
        }
      ]
    },
    {
      "cell_type": "code",
      "source": [
        "training_sequences = tokenizer.texts_to_sequences(training_sentences)\n",
        "print(training_sequences[0])\n",
        "print(training_sequences[1])\n",
        "print(training_sequences[2])"
      ],
      "metadata": {
        "id": "VCU0rS1646r-",
        "colab": {
          "base_uri": "https://localhost:8080/"
        },
        "outputId": "1ed7ae23-9142-4a99-96e4-bf99f44f6187"
      },
      "execution_count": null,
      "outputs": [
        {
          "output_type": "stream",
          "name": "stdout",
          "text": [
            "[457, 8739, 706, 8740, 3945, 38, 14, 590, 38, 150, 8741, 6115, 3945, 331, 2493, 2938, 907, 32, 182, 1695, 8742, 209, 1, 8742, 52, 3529, 507, 663, 1, 3945, 7097, 619, 1391, 1, 1072, 1007, 604, 2835, 194, 1, 340, 156, 7098, 14, 5423, 3059, 8743, 14, 5423, 1415, 2938, 1, 10, 2279, 1415, 173, 8744, 2022, 580, 41, 3190, 1331, 1415, 4926, 1237, 1173, 100, 1, 209, 908, 1, 706, 8740, 3945, 206, 134, 31, 870, 267, 753, 237, 402, 8, 734, 20, 402, 8, 922, 114, 1920, 8745, 707, 57, 1332, 1215, 2736, 20, 170, 6116, 6, 7]\n",
            "[49, 8746, 3945, 2, 2938, 3529, 132, 319, 639, 458, 1972, 78, 2061, 7099, 604, 332, 3945, 8746, 4540, 3735, 291, 682, 1008, 1282, 8747, 3945, 2062, 6117, 45, 206, 9, 754, 2345, 517, 194, 43, 2155, 32, 31, 1696, 2835, 622, 363, 787, 4541, 682, 1365, 2101, 1139, 6, 7]\n",
            "[2, 907, 11, 6115, 9, 94, 539, 907, 27, 20, 2, 8748]\n"
          ]
        }
      ]
    },
    {
      "cell_type": "code",
      "source": [
        "from tensorflow.keras.preprocessing.sequence import pad_sequences\n",
        "\n",
        "#Define parameters for pad_sequences\n",
        "padding_type = 'post'\n",
        "max_length = 100\n",
        "trunc_type='post'\n",
        "training_padded = pad_sequences(training_sequences,maxlen=max_length, padding=padding_type,truncating=trunc_type)\n",
        "\n",
        "#Check the padded sequence\n",
        "training_padded\n",
        "print(training_padded[0:3])"
      ],
      "metadata": {
        "id": "yUbgPTXQDiQC",
        "colab": {
          "base_uri": "https://localhost:8080/"
        },
        "outputId": "d092bc05-708a-4f74-b281-19203e5783dd"
      },
      "execution_count": null,
      "outputs": [
        {
          "output_type": "stream",
          "name": "stdout",
          "text": [
            "[[ 457 8739  706 8740 3945   38   14  590   38  150 8741 6115 3945  331\n",
            "  2493 2938  907   32  182 1695 8742  209    1 8742   52 3529  507  663\n",
            "     1 3945 7097  619 1391    1 1072 1007  604 2835  194    1  340  156\n",
            "  7098   14 5423 3059 8743   14 5423 1415 2938    1   10 2279 1415  173\n",
            "  8744 2022  580   41 3190 1331 1415 4926 1237 1173  100    1  209  908\n",
            "     1  706 8740 3945  206  134   31  870  267  753  237  402    8  734\n",
            "    20  402    8  922  114 1920 8745  707   57 1332 1215 2736   20  170\n",
            "  6116    6]\n",
            " [  49 8746 3945    2 2938 3529  132  319  639  458 1972   78 2061 7099\n",
            "   604  332 3945 8746 4540 3735  291  682 1008 1282 8747 3945 2062 6117\n",
            "    45  206    9  754 2345  517  194   43 2155   32   31 1696 2835  622\n",
            "   363  787 4541  682 1365 2101 1139    6    7    0    0    0    0    0\n",
            "     0    0    0    0    0    0    0    0    0    0    0    0    0    0\n",
            "     0    0    0    0    0    0    0    0    0    0    0    0    0    0\n",
            "     0    0    0    0    0    0    0    0    0    0    0    0    0    0\n",
            "     0    0]\n",
            " [   2  907   11 6115    9   94  539  907   27   20    2 8748    0    0\n",
            "     0    0    0    0    0    0    0    0    0    0    0    0    0    0\n",
            "     0    0    0    0    0    0    0    0    0    0    0    0    0    0\n",
            "     0    0    0    0    0    0    0    0    0    0    0    0    0    0\n",
            "     0    0    0    0    0    0    0    0    0    0    0    0    0    0\n",
            "     0    0    0    0    0    0    0    0    0    0    0    0    0    0\n",
            "     0    0    0    0    0    0    0    0    0    0    0    0    0    0\n",
            "     0    0]]\n"
          ]
        }
      ]
    },
    {
      "cell_type": "code",
      "source": [
        "class Employee:\n",
        "  def __init__(self,name,Empid):\n",
        "    self.name=name\n",
        "    self.Empid=Empid\n",
        "    print(self.Empid)\n",
        "std=Employee(\"Jhon\",1)\n",
        "std.Empid=2\n",
        "\n"
      ],
      "metadata": {
        "id": "N0IXpIsYWL2_",
        "colab": {
          "base_uri": "https://localhost:8080/"
        },
        "outputId": "7c432aed-9c29-4750-d700-9377b41cb5dc"
      },
      "execution_count": null,
      "outputs": [
        {
          "output_type": "stream",
          "name": "stdout",
          "text": [
            "1\n"
          ]
        }
      ]
    },
    {
      "cell_type": "code",
      "source": [
        "from tensorflow.keras.preprocessing.sequence import pad_sequences\n",
        "\n",
        "#Define parameters for pad_sequences\n",
        "padding_type = 'post'\n",
        "max_length = 100\n",
        "trunc_type='post'\n",
        "dataframe = pad_sequences(training_sequences,maxlen=max_length, padding=padding_type,truncating=trunc_type)\n",
        "\n",
        "#Check the padded sequence\n",
        "dataframe\n",
        "print(dataframe[0:3])"
      ],
      "metadata": {
        "id": "xNbhLWNe-D4x",
        "colab": {
          "base_uri": "https://localhost:8080/"
        },
        "outputId": "4bc16af9-03ba-4aa7-941a-8e6f977ca10c"
      },
      "execution_count": null,
      "outputs": [
        {
          "output_type": "stream",
          "name": "stdout",
          "text": [
            "[[ 457 8739  706 8740 3945   38   14  590   38  150 8741 6115 3945  331\n",
            "  2493 2938  907   32  182 1695 8742  209    1 8742   52 3529  507  663\n",
            "     1 3945 7097  619 1391    1 1072 1007  604 2835  194    1  340  156\n",
            "  7098   14 5423 3059 8743   14 5423 1415 2938    1   10 2279 1415  173\n",
            "  8744 2022  580   41 3190 1331 1415 4926 1237 1173  100    1  209  908\n",
            "     1  706 8740 3945  206  134   31  870  267  753  237  402    8  734\n",
            "    20  402    8  922  114 1920 8745  707   57 1332 1215 2736   20  170\n",
            "  6116    6]\n",
            " [  49 8746 3945    2 2938 3529  132  319  639  458 1972   78 2061 7099\n",
            "   604  332 3945 8746 4540 3735  291  682 1008 1282 8747 3945 2062 6117\n",
            "    45  206    9  754 2345  517  194   43 2155   32   31 1696 2835  622\n",
            "   363  787 4541  682 1365 2101 1139    6    7    0    0    0    0    0\n",
            "     0    0    0    0    0    0    0    0    0    0    0    0    0    0\n",
            "     0    0    0    0    0    0    0    0    0    0    0    0    0    0\n",
            "     0    0    0    0    0    0    0    0    0    0    0    0    0    0\n",
            "     0    0]\n",
            " [   2  907   11 6115    9   94  539  907   27   20    2 8748    0    0\n",
            "     0    0    0    0    0    0    0    0    0    0    0    0    0    0\n",
            "     0    0    0    0    0    0    0    0    0    0    0    0    0    0\n",
            "     0    0    0    0    0    0    0    0    0    0    0    0    0    0\n",
            "     0    0    0    0    0    0    0    0    0    0    0    0    0    0\n",
            "     0    0    0    0    0    0    0    0    0    0    0    0    0    0\n",
            "     0    0    0    0    0    0    0    0    0    0    0    0    0    0\n",
            "     0    0]]\n"
          ]
        }
      ]
    },
    {
      "cell_type": "code",
      "source": [
        "#c115\n",
        "import numpy as np\n",
        "training_padded=np.array(training_padded)\n",
        "print(training_padded)\n",
        "training_labels=np.array(training_labels)\n",
        "print(training_labels)"
      ],
      "metadata": {
        "id": "MlYioNobQ_4S",
        "outputId": "931c4294-fe6f-41d3-91f9-c0f1c1996f4d",
        "colab": {
          "base_uri": "https://localhost:8080/"
        }
      },
      "execution_count": null,
      "outputs": [
        {
          "output_type": "stream",
          "name": "stdout",
          "text": [
            "[[ 457 8739  706 ...  170 6116    6]\n",
            " [  49 8746 3945 ...    0    0    0]\n",
            " [   2  907   11 ...    0    0    0]\n",
            " ...\n",
            " [  15    2   15 ...    0    0    0]\n",
            " [ 132  308  369 ...    0    0    0]\n",
            " [  11   23   15 ...    0    0    0]]\n",
            "[0 1 0 ... 0 1 0]\n"
          ]
        }
      ]
    },
    {
      "cell_type": "code",
      "source": [
        "from tensorflow.keras.models import Sequential\n",
        "from tensorflow.keras.layers import Embedding,LSTM,Dense\n",
        "from tensorflow.keras.layers import Conv1D,Dropout,MaxPooling1D\n",
        "\n",
        "model=tf.keras.Sequential([\n",
        "    Embedding(vocab_size,embedding_dim,input_length=max_length),\n",
        "    Dropout(0.2),\n",
        "\n",
        "    Conv1D(filters=256,kernel_size=3,activation=\"relu\"),\n",
        "    MaxPooling1D(pool_size=3),\n",
        "\n",
        "    Conv1D(filters=128,kernel_size=3,activation=\"relu\"),\n",
        "    MaxPooling1D(pool_size=3),\n",
        "\n",
        "    LSTM(128),\n",
        "    Dense(128,activation=\"relu\"),\n",
        "    Dropout(0.2),\n",
        "    Dense(64,activation='relu'),\n",
        "    Dense(6,activation='softmax')\n",
        "])\n",
        "\n",
        "model.compile(loss='sparse_categorical_crossentropy',optimizer='adam',metrics=['accuracy'])"
      ],
      "metadata": {
        "id": "DlbqMmKMROJh"
      },
      "execution_count": null,
      "outputs": []
    },
    {
      "cell_type": "code",
      "source": [
        "model.summary()"
      ],
      "metadata": {
        "id": "mXXR6_UMSFHL",
        "outputId": "7bfb96cf-7659-4c58-b963-e95344d780d3",
        "colab": {
          "base_uri": "https://localhost:8080/"
        }
      },
      "execution_count": null,
      "outputs": [
        {
          "output_type": "stream",
          "name": "stdout",
          "text": [
            "Model: \"sequential\"\n",
            "_________________________________________________________________\n",
            " Layer (type)                Output Shape              Param #   \n",
            "=================================================================\n",
            " embedding (Embedding)       (None, 100, 16)           160000    \n",
            "                                                                 \n",
            " dropout (Dropout)           (None, 100, 16)           0         \n",
            "                                                                 \n",
            " conv1d (Conv1D)             (None, 98, 256)           12544     \n",
            "                                                                 \n",
            " max_pooling1d (MaxPooling1D  (None, 32, 256)          0         \n",
            " )                                                               \n",
            "                                                                 \n",
            " conv1d_1 (Conv1D)           (None, 30, 128)           98432     \n",
            "                                                                 \n",
            " max_pooling1d_1 (MaxPooling  (None, 10, 128)          0         \n",
            " 1D)                                                             \n",
            "                                                                 \n",
            " lstm (LSTM)                 (None, 128)               131584    \n",
            "                                                                 \n",
            " dense (Dense)               (None, 128)               16512     \n",
            "                                                                 \n",
            " dropout_1 (Dropout)         (None, 128)               0         \n",
            "                                                                 \n",
            " dense_1 (Dense)             (None, 64)                8256      \n",
            "                                                                 \n",
            " dense_2 (Dense)             (None, 6)                 390       \n",
            "                                                                 \n",
            "=================================================================\n",
            "Total params: 427,718\n",
            "Trainable params: 427,718\n",
            "Non-trainable params: 0\n",
            "_________________________________________________________________\n"
          ]
        }
      ]
    },
    {
      "cell_type": "code",
      "source": [
        "num_epochs=5\n",
        "history=model.fit(training_padded,training_labels,epochs=num_epochs,verbose=2)"
      ],
      "metadata": {
        "id": "Vgpa5my6SHZ5",
        "outputId": "cf58e4d2-f71a-4922-adff-db6baf20ba2b",
        "colab": {
          "base_uri": "https://localhost:8080/"
        }
      },
      "execution_count": null,
      "outputs": [
        {
          "output_type": "stream",
          "name": "stdout",
          "text": [
            "Epoch 1/5\n",
            "671/671 - 46s - loss: 0.3372 - accuracy: 0.9224 - 46s/epoch - 69ms/step\n",
            "Epoch 2/5\n",
            "671/671 - 35s - loss: 0.1838 - accuracy: 0.9429 - 35s/epoch - 52ms/step\n",
            "Epoch 3/5\n",
            "671/671 - 33s - loss: 0.1354 - accuracy: 0.9536 - 33s/epoch - 50ms/step\n",
            "Epoch 4/5\n",
            "671/671 - 34s - loss: 0.1109 - accuracy: 0.9606 - 34s/epoch - 50ms/step\n",
            "Epoch 5/5\n",
            "671/671 - 34s - loss: 0.0918 - accuracy: 0.9670 - 34s/epoch - 51ms/step\n"
          ]
        }
      ]
    },
    {
      "cell_type": "code",
      "source": [
        "model.save('Text_Emotion.h5')"
      ],
      "metadata": {
        "id": "WXKEjqw-SK7t"
      },
      "execution_count": null,
      "outputs": []
    },
    {
      "cell_type": "code",
      "source": [
        "sentence=[\"great phone do buy it. it is an awesome purchase with great battery life.\"]\n",
        "sequences=tokenizer.texts_to_sequences(sentence)\n",
        "\n",
        "padded=pad_sequences(sequences,maxlen=max_length,padding=padding_type,truncating=trunc_type)\n",
        "result=model.predict(padded)\n",
        "predict_class=np.argmax(result,axis=1)\n",
        "predict_class"
      ],
      "metadata": {
        "id": "104vqSuVSNZ7",
        "outputId": "09610c84-51c4-472a-98fb-9c30b0e4e9b1",
        "colab": {
          "base_uri": "https://localhost:8080/"
        }
      },
      "execution_count": null,
      "outputs": [
        {
          "output_type": "stream",
          "name": "stdout",
          "text": [
            "1/1 [==============================] - 0s 27ms/step\n"
          ]
        },
        {
          "output_type": "execute_result",
          "data": {
            "text/plain": [
              "array([0])"
            ]
          },
          "metadata": {},
          "execution_count": 22
        }
      ]
    }
  ]
}